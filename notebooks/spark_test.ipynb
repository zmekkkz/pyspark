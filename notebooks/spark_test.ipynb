{
 "cells": [
  {
   "cell_type": "markdown",
   "metadata": {},
   "source": [
    "# Test PySpark Connection\n",
    "\n",
    "This notebook demonstrates how to connect to the Spark master from JupyterLab."
   ]
  },
  {
   "cell_type": "code",
   "execution_count": 1,
   "metadata": {},
   "outputs": [
    {
     "name": "stdout",
     "output_type": "stream",
     "text": [
      "Spark version: 3.5.0\n"
     ]
    }
   ],
   "source": [
    "from pyspark.sql import SparkSession\n",
    "\n",
    "# Create a Spark session\n",
    "spark = SparkSession.builder \\\n",
    "    .appName(\"JupyterSpark\") \\\n",
    "    .master(\"spark://spark-master:7077\") \\\n",
    "    .getOrCreate()\n",
    "\n",
    "# Print Spark version\n",
    "print(f\"Spark version: {spark.version}\")"
   ]
  },
  {
   "cell_type": "code",
   "execution_count": 16,
   "metadata": {},
   "outputs": [
    {
     "name": "stdout",
     "output_type": "stream",
     "text": [
      "Available files: ['.ipynb_checkpoints', 'idc_btt.csv']\n"
     ]
    }
   ],
   "source": [
    "import os\n",
    "files = os.listdir(\"/home/jovyan/work/data\")\n",
    "print(f\"Available files: {files}\")"
   ]
  },
  {
   "cell_type": "code",
   "execution_count": 20,
   "metadata": {},
   "outputs": [],
   "source": [
    "import pandas as pd\n",
    "pandas_df = pd.read_csv(\"/home/jovyan/work/data/idc_btt.csv\")\n",
    "df = spark.createDataFrame(pandas_df)"
   ]
  },
  {
   "cell_type": "code",
   "execution_count": 4,
   "metadata": {},
   "outputs": [
    {
     "name": "stdout",
     "output_type": "stream",
     "text": [
      "Spark UI: http://5826486a572b:4040\n"
     ]
    }
   ],
   "source": [
    "# Check Spark UI URL\n",
    "print(f\"Spark UI: {spark.sparkContext.uiWebUrl}\")"
   ]
  },
  {
   "cell_type": "code",
   "execution_count": 5,
   "metadata": {},
   "outputs": [
    {
     "name": "stdout",
     "output_type": "stream",
     "text": [
      "+---+-----------+----+-------------+-------------------+-----+-------------------+\n",
      "| id|device_name|unit|     unixtime|               time|value|       create_at_bi|\n",
      "+---+-----------+----+-------------+-------------------+-----+-------------------+\n",
      "|  1|  IDC1-DCiE|kW h|1667445664452|2022-11-03 10:21:04|57.86|2022-11-04 00:00:03|\n",
      "|  2|  IDC1-DCiE|kW h|1667445724324|2022-11-03 10:22:04|58.62|2022-11-04 00:00:03|\n",
      "|  3|  IDC1-DCiE|kW h|1667445784338|2022-11-03 10:23:04|58.75|2022-11-04 00:00:03|\n",
      "|  4|  IDC1-DCiE|kW h|1667445844345|2022-11-03 10:24:04| 58.4|2022-11-04 00:00:03|\n",
      "|  5|  IDC1-DCiE|kW h|1667445904432|2022-11-03 10:25:04|59.04|2022-11-04 00:00:03|\n",
      "|  6|  IDC1-DCiE|kW h|1667445967053|2022-11-03 10:26:07|58.78|2022-11-04 00:00:03|\n",
      "|  7|  IDC1-DCiE|kW h|1667446024311|2022-11-03 10:27:04| 57.6|2022-11-04 00:00:03|\n",
      "|  8|  IDC1-DCiE|kW h|1667446084459|2022-11-03 10:28:04|57.06|2022-11-04 00:00:03|\n",
      "|  9|  IDC1-DCiE|kW h|1667446144312|2022-11-03 10:29:04|57.33|2022-11-04 00:00:03|\n",
      "| 10|  IDC1-DCiE|kW h|1667446204352|2022-11-03 10:30:04|57.72|2022-11-04 00:00:03|\n",
      "| 11|  IDC1-DCiE|kW h|1667446264410|2022-11-03 10:31:04|57.68|2022-11-04 00:00:03|\n",
      "| 12|  IDC1-DCiE|kW h|1667446324524|2022-11-03 10:32:04|57.37|2022-11-04 00:00:03|\n",
      "| 13|  IDC1-DCiE|kW h|1667446384352|2022-11-03 10:33:04|57.59|2022-11-04 00:00:03|\n",
      "| 14|  IDC1-DCiE|kW h|1667446444491|2022-11-03 10:34:04|57.62|2022-11-04 00:00:03|\n",
      "| 15|  IDC1-DCiE|kW h|1667446504497|2022-11-03 10:35:04|58.14|2022-11-04 00:00:03|\n",
      "| 16|  IDC1-DCiE|kW h|1667446564352|2022-11-03 10:36:04|57.34|2022-11-04 00:00:03|\n",
      "| 17|  IDC1-DCiE|kW h|1667446626195|2022-11-03 10:37:06|57.08|2022-11-04 00:00:03|\n",
      "| 18|  IDC1-DCiE|kW h|1667446684379|2022-11-03 10:38:04|57.37|2022-11-04 00:00:03|\n",
      "| 19|  IDC1-DCiE|kW h|1667446744570|2022-11-03 10:39:04|56.51|2022-11-04 00:00:03|\n",
      "| 20|  IDC1-DCiE|kW h|1667446804450|2022-11-03 10:40:04|56.16|2022-11-04 00:00:03|\n",
      "+---+-----------+----+-------------+-------------------+-----+-------------------+\n",
      "only showing top 20 rows\n",
      "\n"
     ]
    }
   ],
   "source": [
    "df.show()"
   ]
  },
  {
   "cell_type": "code",
   "execution_count": 6,
   "metadata": {},
   "outputs": [],
   "source": [
    "postgres_url = \"jdbc:postgresql://host.docker.internal:5433/mek\"\n",
    "properties = {\n",
    "    \"user\": \"airflow\",\n",
    "    \"password\": \"airflow\",\n",
    "    \"driver\": \"org.postgresql.Driver\"\n",
    "}"
   ]
  },
  {
   "cell_type": "code",
   "execution_count": 7,
   "metadata": {},
   "outputs": [],
   "source": [
    "from pyspark.sql.functions import sum, col\n",
    "df = df.withColumn(\"value\", col(\"value\").cast(\"double\"))"
   ]
  },
  {
   "cell_type": "code",
   "execution_count": 8,
   "metadata": {},
   "outputs": [
    {
     "name": "stdout",
     "output_type": "stream",
     "text": [
      "+--------------------+-------------------+\n",
      "|         device_name|        Total_Value|\n",
      "+--------------------+-------------------+\n",
      "|IDC1-PM-ATS-NORMA...| 4.8228715046625E10|\n",
      "| IDC2-UPS-2/Total KW|  2108764.799999994|\n",
      "|           IDC1-DCiE|  2142374.419999999|\n",
      "| IDC1-UPS-3/Total KW| 2494811.2000000067|\n",
      "|IDC2-UDB-1/Total kWh| 3.5153927041125E10|\n",
      "|IDC2-FAC-INET/rou...|  1.801048418025E11|\n",
      "| IDC2-UPS-1/Total KW| 2228751.8999999976|\n",
      "|           IDC2-DCiE| 1730658.5999999985|\n",
      "| IDC2-EMDB/Total kWh|   5.65652402405E11|\n",
      "|IDC2-PM-ATS-NORMA...|3.59511782104375E10|\n",
      "|   IDC1-PM AIRDB/kWh|   4.14686837383E11|\n",
      "| IDC1-UPS-2/Total KW|  2495253.699999997|\n",
      "| IDC1-UPS-1/Total KW|  2510737.200000004|\n",
      "|    IDC1-PM EMDB/kWh|  1.137159710324E12|\n",
      "|            IDC1-PUE|  63485.01999999923|\n",
      "|IDC2-UDB-2/Total kWh|   3.73490688695E10|\n",
      "|IDC2-FAC-THAISARN...|  7.161759252775E10|\n",
      "|            IDC2-PUE|  78720.49999999985|\n",
      "+--------------------+-------------------+\n",
      "\n"
     ]
    }
   ],
   "source": [
    "df_sum = df.groupBy(\"device_name\").agg(sum(\"value\").alias(\"Total_Value\"))\n",
    "df_sum.show()"
   ]
  },
  {
   "cell_type": "code",
   "execution_count": 9,
   "metadata": {},
   "outputs": [],
   "source": [
    "sqlserver_url = \"jdbc:sqlserver://host.docker.internal:1433;databaseName=mek\"\n",
    "properties = {\n",
    "    \"user\": \"mek\",\n",
    "    \"password\": \"NewStrongPassword\",\n",
    "    \"driver\": \"com.microsoft.sqlserver.jdbc.SQLServerDriver\",\n",
    "    \"trustServerCertificate\": \"true\"\n",
    "}"
   ]
  },
  {
   "cell_type": "code",
   "execution_count": 10,
   "metadata": {},
   "outputs": [],
   "source": [
    "df.write.jdbc(url=sqlserver_url, table=\"idc_btt\", mode=\"overwrite\", properties=properties)"
   ]
  },
  {
   "cell_type": "code",
   "execution_count": null,
   "metadata": {},
   "outputs": [],
   "source": []
  }
 ],
 "metadata": {
  "kernelspec": {
   "display_name": "Python 3 (ipykernel)",
   "language": "python",
   "name": "python3"
  },
  "language_info": {
   "codemirror_mode": {
    "name": "ipython",
    "version": 3
   },
   "file_extension": ".py",
   "mimetype": "text/x-python",
   "name": "python",
   "nbconvert_exporter": "python",
   "pygments_lexer": "ipython3",
   "version": "3.11.6"
  }
 },
 "nbformat": 4,
 "nbformat_minor": 4
}
